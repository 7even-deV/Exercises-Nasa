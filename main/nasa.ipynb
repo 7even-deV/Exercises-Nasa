{
 "cells": [
  {
   "cell_type": "markdown",
   "id": "a3cc977c",
   "metadata": {},
   "source": [
    "# Web Server logs Analysis - Nasa"
   ]
  },
  {
   "cell_type": "code",
   "execution_count": 56,
   "id": "8d375bb7",
   "metadata": {},
   "outputs": [],
   "source": [
    "from pyspark.sql import SparkSession\n",
    "from pyspark.sql import functions as F\n",
    "import re\n",
    "\n",
    "spark = (SparkSession\n",
    "        .builder\n",
    "        .appName(\"Nasa\")\n",
    "        .getOrCreate())"
   ]
  },
  {
   "cell_type": "code",
   "execution_count": 57,
   "id": "525e468d",
   "metadata": {},
   "outputs": [
    {
     "name": "stdout",
     "output_type": "stream",
     "text": [
      "+--------------------+\n",
      "|               value|\n",
      "+--------------------+\n",
      "|in24.inetnebr.com...|\n",
      "|uplherc.upl.com -...|\n",
      "|uplherc.upl.com -...|\n",
      "|uplherc.upl.com -...|\n",
      "|uplherc.upl.com -...|\n",
      "|ix-esc-ca2-07.ix....|\n",
      "|uplherc.upl.com -...|\n",
      "|slppp6.intermind....|\n",
      "|piweba4y.prodigy....|\n",
      "|slppp6.intermind....|\n",
      "|slppp6.intermind....|\n",
      "|ix-esc-ca2-07.ix....|\n",
      "|slppp6.intermind....|\n",
      "|uplherc.upl.com -...|\n",
      "|133.43.96.45 - - ...|\n",
      "|kgtyk4.kj.yamagat...|\n",
      "|kgtyk4.kj.yamagat...|\n",
      "|d0ucr6.fnal.gov -...|\n",
      "|ix-esc-ca2-07.ix....|\n",
      "|d0ucr6.fnal.gov -...|\n",
      "+--------------------+\n",
      "only showing top 20 rows\n",
      "\n"
     ]
    }
   ],
   "source": [
    "_route = \"C:/Users/sergio.fuentes/Developer/IntelliJ/Nasa/resources/\"\n",
    "_file = \"access.log\"\n",
    "nasa_file = _route + _file\n",
    "\n",
    "df = (spark.read.format(\"text\")\n",
    "        .option(\"header\", \"true\")\n",
    "        .option(\"inferSchema\", \"true\")\n",
    "        .load(nasa_file))\n",
    "df.show()"
   ]
  },
  {
   "cell_type": "code",
   "execution_count": 58,
   "id": "0586349b",
   "metadata": {},
   "outputs": [],
   "source": [
    "sample_logs = [item['value'] for item in df.collect()]\n",
    "# sample_logs"
   ]
  },
  {
   "cell_type": "code",
   "execution_count": 59,
   "id": "d3d5a52b",
   "metadata": {},
   "outputs": [],
   "source": [
    "host_pattern = r'(^\\S+\\.[\\S+\\.]+\\S+)\\s'\n",
    "hosts = [re.search(host_pattern, item).group(1)\n",
    "           if re.search(host_pattern, item)\n",
    "           else 'no match'\n",
    "           for item in sample_logs]"
   ]
  },
  {
   "cell_type": "code",
   "execution_count": 60,
   "id": "373c1abc",
   "metadata": {},
   "outputs": [],
   "source": [
    "ts_pattern = r'\\[(\\d{2}/\\w{3}/\\d{4}:\\d{2}:\\d{2}:\\d{2} -\\d{4})]'\n",
    "timestamps = [re.search(ts_pattern, item).group(1)\n",
    "                if re.search(ts_pattern, item)\n",
    "                else 'no match'\n",
    "                for item in sample_logs]"
   ]
  },
  {
   "cell_type": "code",
   "execution_count": 61,
   "id": "a948d2bc",
   "metadata": {},
   "outputs": [],
   "source": [
    "method_uri_protocol_pattern = r'\\\"(\\S+)\\s(\\S+)\\s*(\\S*)\\\"'\n",
    "method_uri_protocol = [re.search(method_uri_protocol_pattern, item).groups()\n",
    "                        if re.search(method_uri_protocol_pattern, item)\n",
    "                        else 'no match'\n",
    "                        for item in sample_logs]"
   ]
  },
  {
   "cell_type": "code",
   "execution_count": 62,
   "id": "805be7d0",
   "metadata": {},
   "outputs": [],
   "source": [
    "status_pattern = r'\\s(\\d{3})\\s'\n",
    "status = [re.search(status_pattern, item).group(1) \n",
    "            if re.search(status_pattern, item)\n",
    "            else 'no match'\n",
    "            for item in sample_logs]"
   ]
  },
  {
   "cell_type": "code",
   "execution_count": 63,
   "id": "1ed050bf",
   "metadata": {},
   "outputs": [],
   "source": [
    "content_size_pattern = r'\\s(\\d+|-)$'\n",
    "content_size = [re.search(content_size_pattern, item).group(1)\n",
    "            if re.search(content_size_pattern, item)\n",
    "            else 'no match'\n",
    "            for item in sample_logs]"
   ]
  },
  {
   "cell_type": "code",
   "execution_count": 64,
   "id": "8bb7099f",
   "metadata": {},
   "outputs": [
    {
     "name": "stdout",
     "output_type": "stream",
     "text": [
      "+---------------------------+--------------------------+------+-----------------------------------------------+--------+------+------------+\n",
      "|host                       |timestamp                 |method|endpoint                                       |protocol|status|content_size|\n",
      "+---------------------------+--------------------------+------+-----------------------------------------------+--------+------+------------+\n",
      "|in24.inetnebr.com          |01/Aug/1995:00:00:01 -0400|GET   |/shuttle/missions/sts-68/news/sts-68-mcc-05.txt|HTTP/1.0|200   |1839        |\n",
      "|uplherc.upl.com            |01/Aug/1995:00:00:07 -0400|GET   |/                                              |HTTP/1.0|304   |0           |\n",
      "|uplherc.upl.com            |01/Aug/1995:00:00:08 -0400|GET   |/images/ksclogo-medium.gif                     |HTTP/1.0|304   |0           |\n",
      "|uplherc.upl.com            |01/Aug/1995:00:00:08 -0400|GET   |/images/MOSAIC-logosmall.gif                   |HTTP/1.0|304   |0           |\n",
      "|uplherc.upl.com            |01/Aug/1995:00:00:08 -0400|GET   |/images/USA-logosmall.gif                      |HTTP/1.0|304   |0           |\n",
      "|ix-esc-ca2-07.ix.netcom.com|01/Aug/1995:00:00:09 -0400|GET   |/images/launch-logo.gif                        |HTTP/1.0|200   |1713        |\n",
      "|uplherc.upl.com            |01/Aug/1995:00:00:10 -0400|GET   |/images/WORLD-logosmall.gif                    |HTTP/1.0|304   |0           |\n",
      "|slppp6.intermind.net       |01/Aug/1995:00:00:10 -0400|GET   |/history/skylab/skylab.html                    |HTTP/1.0|200   |1687        |\n",
      "|piweba4y.prodigy.com       |01/Aug/1995:00:00:10 -0400|GET   |/images/launchmedium.gif                       |HTTP/1.0|200   |11853       |\n",
      "|slppp6.intermind.net       |01/Aug/1995:00:00:11 -0400|GET   |/history/skylab/skylab-small.gif               |HTTP/1.0|200   |9202        |\n",
      "+---------------------------+--------------------------+------+-----------------------------------------------+--------+------+------------+\n",
      "only showing top 10 rows\n",
      "\n",
      "(1569898, 7)\n"
     ]
    }
   ],
   "source": [
    "from pyspark.sql.functions import regexp_extract\n",
    "\n",
    "logs_df = df.select(\n",
    "    regexp_extract('value', host_pattern, 1).alias('host'),\n",
    "    regexp_extract('value', ts_pattern, 1).alias('timestamp'),\n",
    "    regexp_extract('value', method_uri_protocol_pattern, 1).alias('method'),\n",
    "    regexp_extract('value', method_uri_protocol_pattern, 2).alias('endpoint'),\n",
    "    regexp_extract('value', method_uri_protocol_pattern, 3).alias('protocol'),\n",
    "    regexp_extract('value', status_pattern, 1).cast('integer').alias('status'),\n",
    "    regexp_extract('value', content_size_pattern, 1).alias('content_size'))\n",
    "\n",
    "logs_df.show(n=10, truncate=-1, vertical=False)\n",
    "print((logs_df.count(), len(logs_df.columns)))"
   ]
  },
  {
   "cell_type": "code",
   "execution_count": 65,
   "id": "12f95015",
   "metadata": {},
   "outputs": [],
   "source": [
    "\n",
    "logs_df_completo = df.select(\n",
    "    regexp_extract('value', host_pattern, 1).alias('host'),\n",
    "    regexp_extract('value', ts_pattern, 1).alias('timestamp'),\n",
    "    regexp_extract('value', method_uri_protocol_pattern, 1).alias('method'),\n",
    "    regexp_extract('value', method_uri_protocol_pattern, 2).alias('endpoint'),\n",
    "    regexp_extract('value', method_uri_protocol_pattern, 3).alias('protocol'),\n",
    "    regexp_extract('value', status_pattern, 1).cast('integer').alias('status'),\n",
    "    regexp_extract('value', content_size_pattern, 1).alias('content_size'),\n",
    "    F.col(\"value\"))"
   ]
  },
  {
   "cell_type": "code",
   "execution_count": 66,
   "id": "fb911a96",
   "metadata": {},
   "outputs": [],
   "source": [
    "file_parquet = \"/tmp/data/parquet/df_parquet_nasa\"\n",
    "\n",
    "(logs_df.write\n",
    "    .format(\"parquet\")\n",
    "    .mode(\"overwrite\")\n",
    "    .option(\"compression\", \"snappy\")\n",
    "    .save(file_parquet))"
   ]
  },
  {
   "cell_type": "code",
   "execution_count": 67,
   "id": "f591cb4a",
   "metadata": {},
   "outputs": [],
   "source": [
    "logs_df_parquet = spark.read.format(\"parquet\").load(file_parquet)"
   ]
  },
  {
   "cell_type": "markdown",
   "id": "82cd0cb0",
   "metadata": {},
   "source": [
    "¿Cuáles son los distintos protocolos web utilizados? Agrúpalos."
   ]
  },
  {
   "cell_type": "code",
   "execution_count": 68,
   "id": "6cd11bcc",
   "metadata": {},
   "outputs": [
    {
     "name": "stdout",
     "output_type": "stream",
     "text": [
      "+---------+-------+\n",
      "| Protocol|  count|\n",
      "+---------+-------+\n",
      "|        a|      1|\n",
      "|         |   2765|\n",
      "|HTTP/V1.0|    163|\n",
      "| HTTP/1.0|1566969|\n",
      "+---------+-------+\n",
      "\n"
     ]
    }
   ],
   "source": [
    "\n",
    "preg1 = (logs_df_parquet\n",
    "    .groupBy(F.col('Protocol'))\n",
    "    .count()\n",
    "    .show())"
   ]
  },
  {
   "cell_type": "code",
   "execution_count": 69,
   "id": "bb56e191",
   "metadata": {},
   "outputs": [
    {
     "name": "stdout",
     "output_type": "stream",
     "text": [
      "+--------+--------------------+\n",
      "|Protocol|               value|\n",
      "+--------+--------------------+\n",
      "|        |pipe1.nyc.pipelin...|\n",
      "|        |columbia.acc.brad...|\n",
      "|        |columbia.acc.brad...|\n",
      "|        |columbia.acc.brad...|\n",
      "|        |columbia.acc.brad...|\n",
      "|        |columbia.acc.brad...|\n",
      "|        |columbia.acc.brad...|\n",
      "|        |cs1-06.leh.ptd.ne...|\n",
      "|        |cs1-06.leh.ptd.ne...|\n",
      "|        |cs1-06.leh.ptd.ne...|\n",
      "|        |cs1-06.leh.ptd.ne...|\n",
      "|        |cs1-06.leh.ptd.ne...|\n",
      "|        |cs1-06.leh.ptd.ne...|\n",
      "|        |cs1-06.leh.ptd.ne...|\n",
      "|        |cs1-06.leh.ptd.ne...|\n",
      "|        |cs1-06.leh.ptd.ne...|\n",
      "|        |cs1-06.leh.ptd.ne...|\n",
      "|        |cs1-06.leh.ptd.ne...|\n",
      "|        |cs1-06.leh.ptd.ne...|\n",
      "|        |cs1-06.leh.ptd.ne...|\n",
      "+--------+--------------------+\n",
      "only showing top 20 rows\n",
      "\n"
     ]
    }
   ],
   "source": [
    "(logs_df_completo\n",
    "    .filter(~F.col('Protocol')\n",
    "    .isin('HTTP/*', 'HTTP/V1.0', 'HTTP/1.0', 'STS-69</a><p>'))\n",
    "    .select(\"Protocol\",\"value\")\n",
    "    .show())\n",
    "    # .show(7000, truncate=False))"
   ]
  },
  {
   "cell_type": "markdown",
   "id": "75e8a1a8",
   "metadata": {},
   "source": [
    "¿Cuáles son los códigos de estado más comunes en la web? Agrúpalos y ordénalos para ver cuál es el más común."
   ]
  },
  {
   "cell_type": "code",
   "execution_count": 70,
   "id": "b0596764",
   "metadata": {},
   "outputs": [
    {
     "name": "stdout",
     "output_type": "stream",
     "text": [
      "+------+-------+\n",
      "|status|  count|\n",
      "+------+-------+\n",
      "|   200|1398988|\n",
      "|   304| 134146|\n",
      "|   302|  26497|\n",
      "|   404|  10056|\n",
      "|   403|    171|\n",
      "|   501|     27|\n",
      "|   400|     10|\n",
      "|   500|      3|\n",
      "+------+-------+\n",
      "\n"
     ]
    }
   ],
   "source": [
    "preg2 = (logs_df_parquet\n",
    "            .groupBy(F.col('status'))\n",
    "            .count().orderBy(F.col('count')\n",
    "            .desc())\n",
    "            .show())"
   ]
  },
  {
   "cell_type": "code",
   "execution_count": 71,
   "id": "2b6e4980",
   "metadata": {},
   "outputs": [
    {
     "name": "stdout",
     "output_type": "stream",
     "text": [
      "+------+-----+\n",
      "|status|value|\n",
      "+------+-----+\n",
      "+------+-----+\n",
      "\n"
     ]
    }
   ],
   "source": [
    "(logs_df_completo\n",
    "    .filter(F.col('status')\n",
    "    .isNull())\n",
    "    .select(\"status\", \"value\")\n",
    "    .show(truncate=False))"
   ]
  },
  {
   "cell_type": "markdown",
   "id": "a16c9f8c",
   "metadata": {},
   "source": [
    "¿Y los métodos de petición (verbos) más utilizados?"
   ]
  },
  {
   "cell_type": "code",
   "execution_count": 72,
   "id": "2b2890e5",
   "metadata": {},
   "outputs": [
    {
     "name": "stdout",
     "output_type": "stream",
     "text": [
      "+---------------+-------+\n",
      "|         method|  count|\n",
      "+---------------+-------+\n",
      "|            GET|1564929|\n",
      "|           HEAD|   3965|\n",
      "|               |    891|\n",
      "|           POST|    111|\n",
      "|�|\u0005\u0011t\u0003�9ð'À|\u0005\u0011u|      2|\n",
      "+---------------+-------+\n",
      "\n"
     ]
    }
   ],
   "source": [
    "preg3 = (logs_df_parquet\n",
    "            .groupBy(F.col('method'))\n",
    "            .count()\n",
    "            .orderBy(F.col('count')\n",
    "            .desc())\n",
    "            .show())"
   ]
  },
  {
   "cell_type": "code",
   "execution_count": 73,
   "id": "db92e405",
   "metadata": {},
   "outputs": [
    {
     "name": "stdout",
     "output_type": "stream",
     "text": [
      "+---------------+----------------------------------------------------------------------------+\n",
      "|method         |value                                                                       |\n",
      "+---------------+----------------------------------------------------------------------------+\n",
      "|�|\u0005\u0011t\u0003�9ð'À|\u0005\u0011u|163.206.42.13 - - [31/Aug/1995:11:04:42 -0400] \"�|\u0005\u0011t\u0003�9ð'À|\u0005\u0011u\u000b&�G\u0018\u0001\" 400 -|\n",
      "|�|\u0005\u0011t\u0003�9ð'À|\u0005\u0011u|163.206.42.13 - - [31/Aug/1995:11:04:49 -0400] \"�|\u0005\u0011t\u0003�9ð'À|\u0005\u0011u\u000b&�G\u0018\u0001\" 400 -|\n",
      "+---------------+----------------------------------------------------------------------------+\n",
      "\n"
     ]
    }
   ],
   "source": [
    "(logs_df_completo\n",
    "    .filter(~F.col('method')\n",
    "    .isin('GET', 'HEAD', 'POST', ''))\n",
    "    .select(\"method\", \"value\")\n",
    "    .show(2000, truncate=False))"
   ]
  },
  {
   "cell_type": "markdown",
   "id": "c1f89201",
   "metadata": {},
   "source": [
    "¿Qué recurso tuvo la mayor transferencia de bytes de la página web?"
   ]
  },
  {
   "cell_type": "code",
   "execution_count": 74,
   "id": "d6266412",
   "metadata": {},
   "outputs": [
    {
     "name": "stdout",
     "output_type": "stream",
     "text": [
      "+------------------------------------------------------------+-------------+\n",
      "|endpoint                                                    |content_size |\n",
      "+------------------------------------------------------------+-------------+\n",
      "|/shuttle/missions/sts-71/movies/sts-71-launch.mpg           |1.639380464E9|\n",
      "|/shuttle/missions/sts-69/count69.gif                        |1.005927794E9|\n",
      "|/shuttle/missions/sts-69/movies/sts-69-rollback.mpg         |5.12058235E8 |\n",
      "|/shuttle/technology/sts-newsref/stsref-toc.html             |4.93211198E8 |\n",
      "|/shuttle/missions/sts-69/movies/ws-animation-deploy.mpg     |4.64050354E8 |\n",
      "|/shuttle/missions/sts-53/movies/sts-53-launch.mpg           |4.39216472E8 |\n",
      "|/shuttle/countdown/video/livevideo2.gif                     |4.07684744E8 |\n",
      "|/images/rss.gif                                             |3.24585755E8 |\n",
      "|/images/ksclogo-medium.gif                                  |3.20524106E8 |\n",
      "|/shuttle/missions/sts-71/movies/sts-71-mir-dock.mpg         |3.0956846E8  |\n",
      "|/ksc.html                                                   |2.92169221E8 |\n",
      "|/images/launch.gif                                          |2.8774796E8  |\n",
      "|/shuttle/missions/sts-69/mission-sts-69.html                |2.78938831E8 |\n",
      "|/shuttle/technology/sts-newsref/sts_asm.html                |2.53295947E8 |\n",
      "|/shuttle/missions/sts-71/movies/sts-71-tcdt-crew-walkout.mpg|2.46189788E8 |\n",
      "|/shuttle/missions/sts-70/movies/sts-70-launch.mpg           |2.38252603E8 |\n",
      "|/shuttle/missions/sts-71/movies/sts-71-landing.mpg          |2.23765612E8 |\n",
      "|/images/launchmedium.gif                                    |2.16838782E8 |\n",
      "|/shuttle/missions/sts-69/movies/ws-animation-onorbit.mpg    |2.09458568E8 |\n",
      "|/shuttle/technology/sts-newsref/sts_overview.html           |2.00201448E8 |\n",
      "+------------------------------------------------------------+-------------+\n",
      "only showing top 20 rows\n",
      "\n"
     ]
    }
   ],
   "source": [
    "preg4 = (logs_df_parquet\n",
    "            .groupBy(F.col('endpoint'))\n",
    "            .agg(F.sum(F.col('content_size'))\n",
    "            .alias('content_size'))\n",
    "            .orderBy(F.col('content_size')\n",
    "            .desc())\n",
    "            .show(truncate=False))"
   ]
  },
  {
   "cell_type": "markdown",
   "id": "6b283083",
   "metadata": {},
   "source": [
    "Además, queremos saber que recurso de nuestra web es el que más tráfico recibe. Es decir, el recurso con más registros en nuestro log."
   ]
  },
  {
   "cell_type": "code",
   "execution_count": 75,
   "id": "dc8fb9c7",
   "metadata": {},
   "outputs": [
    {
     "name": "stdout",
     "output_type": "stream",
     "text": [
      "+-----------------------------------------------+-----+\n",
      "|endpoint                                       |count|\n",
      "+-----------------------------------------------+-----+\n",
      "|/images/NASA-logosmall.gif                     |97384|\n",
      "|/images/KSC-logosmall.gif                      |75332|\n",
      "|/images/MOSAIC-logosmall.gif                   |67441|\n",
      "|/images/USA-logosmall.gif                      |67061|\n",
      "|/images/WORLD-logosmall.gif                    |66437|\n",
      "|/images/ksclogo-medium.gif                     |62771|\n",
      "|/ksc.html                                      |43683|\n",
      "|/history/apollo/images/apollo-logo1.gif        |37824|\n",
      "|/images/launch-logo.gif                        |35135|\n",
      "|/                                              |30328|\n",
      "|/images/ksclogosmall.gif                       |27808|\n",
      "|/shuttle/missions/sts-69/mission-sts-69.html   |24606|\n",
      "|/shuttle/countdown/                            |24458|\n",
      "|/shuttle/missions/sts-69/count69.gif           |24381|\n",
      "|/shuttle/missions/sts-69/sts-69-patch-small.gif|23404|\n",
      "|/shuttle/missions/missions.html                |22451|\n",
      "|/images/launchmedium.gif                       |19875|\n",
      "|/htbin/cdt_main.pl                             |17245|\n",
      "|/shuttle/countdown/images/countclock.gif       |12158|\n",
      "|/icons/menu.xbm                                |12137|\n",
      "+-----------------------------------------------+-----+\n",
      "only showing top 20 rows\n",
      "\n"
     ]
    }
   ],
   "source": [
    "preg5 = (logs_df_parquet\n",
    "            .groupBy(F.col('endpoint'))\n",
    "            .agg(F.count(F.col('endpoint'))\n",
    "            .alias('count'))\n",
    "            .orderBy(F.col('count')\n",
    "            .desc())\n",
    "            .show(truncate=False))"
   ]
  },
  {
   "cell_type": "markdown",
   "id": "44fae0bd",
   "metadata": {},
   "source": [
    "¿Qué días la web recibió más tráfico?"
   ]
  },
  {
   "cell_type": "code",
   "execution_count": 76,
   "id": "dbb57fd7",
   "metadata": {},
   "outputs": [
    {
     "name": "stdout",
     "output_type": "stream",
     "text": [
      "+-----------+-----+\n",
      "|dia        |count|\n",
      "+-----------+-----+\n",
      "|31/Aug/1995|90125|\n",
      "|30/Aug/1995|80641|\n",
      "|29/Aug/1995|67988|\n",
      "|10/Aug/1995|61248|\n",
      "|11/Aug/1995|61246|\n",
      "|09/Aug/1995|60458|\n",
      "|08/Aug/1995|60157|\n",
      "|14/Aug/1995|59878|\n",
      "|04/Aug/1995|59557|\n",
      "|17/Aug/1995|58988|\n",
      "|15/Aug/1995|58847|\n",
      "|23/Aug/1995|58097|\n",
      "|22/Aug/1995|57762|\n",
      "|07/Aug/1995|57362|\n",
      "|25/Aug/1995|57321|\n",
      "|16/Aug/1995|56653|\n",
      "|18/Aug/1995|56246|\n",
      "|21/Aug/1995|55540|\n",
      "|28/Aug/1995|55496|\n",
      "|24/Aug/1995|52552|\n",
      "+-----------+-----+\n",
      "only showing top 20 rows\n",
      "\n"
     ]
    }
   ],
   "source": [
    "logs_df2_parquet = logs_df_parquet.withColumn('dia', F.substring_index(F.col(\"timestamp\"), \":\", 1))\n",
    "\n",
    "preg6 = (logs_df2_parquet\n",
    "            .groupBy(F.col('dia'))\n",
    "            .agg(F.count(F.col('endpoint'))\n",
    "            .alias('count'))\n",
    "            .orderBy(F.col('count')\n",
    "            .desc())\n",
    "            .show(truncate=False))"
   ]
  },
  {
   "cell_type": "markdown",
   "id": "0cce5006",
   "metadata": {},
   "source": [
    "¿Cuáles son los hosts son los más frecuentes?"
   ]
  },
  {
   "cell_type": "code",
   "execution_count": 77,
   "id": "46ea9b0c",
   "metadata": {},
   "outputs": [
    {
     "name": "stdout",
     "output_type": "stream",
     "text": [
      "+--------------------+-----+\n",
      "|host                |count|\n",
      "+--------------------+-----+\n",
      "|edams.ksc.nasa.gov  |6530 |\n",
      "|piweba4y.prodigy.com|4846 |\n",
      "|163.206.89.4        |4791 |\n",
      "|piweba5y.prodigy.com|4607 |\n",
      "|piweba3y.prodigy.com|4416 |\n",
      "|www-d1.proxy.aol.com|3889 |\n",
      "|www-b2.proxy.aol.com|3534 |\n",
      "|www-b3.proxy.aol.com|3463 |\n",
      "|www-c5.proxy.aol.com|3423 |\n",
      "|www-b5.proxy.aol.com|3411 |\n",
      "|www-c2.proxy.aol.com|3407 |\n",
      "|www-d2.proxy.aol.com|3404 |\n",
      "|www-a2.proxy.aol.com|3337 |\n",
      "|news.ti.com         |3298 |\n",
      "|www-d3.proxy.aol.com|3296 |\n",
      "|www-b4.proxy.aol.com|3293 |\n",
      "|www-c3.proxy.aol.com|3272 |\n",
      "|www-d4.proxy.aol.com|3234 |\n",
      "|www-c1.proxy.aol.com|3177 |\n",
      "|www-c4.proxy.aol.com|3134 |\n",
      "+--------------------+-----+\n",
      "only showing top 20 rows\n",
      "\n"
     ]
    }
   ],
   "source": [
    "preg7 = (logs_df_parquet\n",
    "            .groupBy(F.col('host'))\n",
    "            .count()\n",
    "            .orderBy(F.col('count')\n",
    "            .desc())\n",
    "            .show(truncate=False))"
   ]
  },
  {
   "cell_type": "code",
   "execution_count": 78,
   "id": "7cd8d3e3",
   "metadata": {},
   "outputs": [
    {
     "name": "stdout",
     "output_type": "stream",
     "text": [
      "+----+--------------------+\n",
      "|host|               value|\n",
      "+----+--------------------+\n",
      "|    |triton - - [01/Au...|\n",
      "|    |triton - - [01/Au...|\n",
      "|    |triton - - [01/Au...|\n",
      "|    |triton - - [01/Au...|\n",
      "|    |triton - - [01/Au...|\n",
      "|    |triton - - [01/Au...|\n",
      "|    |brass - - [01/Aug...|\n",
      "|    |brass - - [01/Aug...|\n",
      "|    |brass - - [01/Aug...|\n",
      "|    |brass - - [01/Aug...|\n",
      "|    |brass - - [01/Aug...|\n",
      "|    |triton - - [01/Au...|\n",
      "|    |triton - - [01/Au...|\n",
      "|    |triton - - [01/Au...|\n",
      "|    |triton - - [01/Au...|\n",
      "|    |triton - - [01/Au...|\n",
      "|    |triton - - [01/Au...|\n",
      "|    |triton - - [01/Au...|\n",
      "|    |triton - - [01/Au...|\n",
      "|    |triton - - [01/Au...|\n",
      "+----+--------------------+\n",
      "only showing top 20 rows\n",
      "\n"
     ]
    }
   ],
   "source": [
    "(logs_df_completo\n",
    "    .filter(F.col('host')\n",
    "    .isin(''))\n",
    "    .select(\"host\", \"value\")\n",
    "    .show())\n",
    "    # .show(2000, truncate=False))"
   ]
  },
  {
   "cell_type": "markdown",
   "id": "38d13ddb",
   "metadata": {},
   "source": [
    "¿A qué horas se produce el mayor número de tráfico en la web?"
   ]
  },
  {
   "cell_type": "code",
   "execution_count": 79,
   "id": "596cfc07",
   "metadata": {},
   "outputs": [
    {
     "name": "stdout",
     "output_type": "stream",
     "text": [
      "+----+------+\n",
      "|hora|count |\n",
      "+----+------+\n",
      "|15  |109465|\n",
      "|12  |105143|\n",
      "|13  |104536|\n",
      "|14  |101394|\n",
      "|16  |99527 |\n",
      "|11  |95344 |\n",
      "|10  |88309 |\n",
      "|17  |80834 |\n",
      "|09  |78695 |\n",
      "|18  |66809 |\n",
      "|08  |65443 |\n",
      "|22  |60673 |\n",
      "|20  |59944 |\n",
      "|19  |59315 |\n",
      "|21  |57985 |\n",
      "|23  |54570 |\n",
      "|00  |47862 |\n",
      "|07  |47386 |\n",
      "|01  |38531 |\n",
      "|02  |32508 |\n",
      "+----+------+\n",
      "only showing top 20 rows\n",
      "\n"
     ]
    }
   ],
   "source": [
    "logs_df3_parquet = logs_df_parquet.withColumn('hora', F.substring(F.col(\"timestamp\"), 13, 2))\n",
    "\n",
    "preg8 = (logs_df3_parquet\n",
    "            .groupBy(F.col('hora'))\n",
    "            .agg(F.count(F.col('endpoint'))\n",
    "            .alias('count'))\n",
    "            .orderBy(F.col('count')\n",
    "            .desc())\n",
    "            .show(truncate=False))"
   ]
  },
  {
   "cell_type": "markdown",
   "id": "9f2bf90a",
   "metadata": {},
   "source": [
    "¿Cuál es el número de errores 404 que ha habido cada día?"
   ]
  },
  {
   "cell_type": "code",
   "execution_count": 80,
   "id": "e99617ef",
   "metadata": {},
   "outputs": [
    {
     "name": "stdout",
     "output_type": "stream",
     "text": [
      "+-----------+-----+\n",
      "|dia        |count|\n",
      "+-----------+-----+\n",
      "|21/Aug/1995|305  |\n",
      "|06/Aug/1995|373  |\n",
      "|07/Aug/1995|537  |\n",
      "|11/Aug/1995|263  |\n",
      "|03/Aug/1995|304  |\n",
      "|18/Aug/1995|256  |\n",
      "|17/Aug/1995|271  |\n",
      "|14/Aug/1995|287  |\n",
      "|20/Aug/1995|312  |\n",
      "|24/Aug/1995|420  |\n",
      "|27/Aug/1995|370  |\n",
      "|13/Aug/1995|216  |\n",
      "|15/Aug/1995|327  |\n",
      "|25/Aug/1995|415  |\n",
      "|22/Aug/1995|288  |\n",
      "|08/Aug/1995|391  |\n",
      "|23/Aug/1995|345  |\n",
      "|19/Aug/1995|209  |\n",
      "|26/Aug/1995|366  |\n",
      "|31/Aug/1995|526  |\n",
      "+-----------+-----+\n",
      "only showing top 20 rows\n",
      "\n"
     ]
    }
   ],
   "source": [
    "preg9 = (logs_df2_parquet\n",
    "            .where(\"status == '404'\")\n",
    "            .groupBy(F.col('dia'))\n",
    "            .count()\n",
    "            .show(truncate=False))"
   ]
  }
 ],
 "metadata": {
  "interpreter": {
   "hash": "0fd3f466ca2cd33ca9bb7000daf30cafd89eaaef0fbc3a54ad10b2afeae8714d"
  },
  "kernelspec": {
   "display_name": "Python 3.10.4 ('venv': venv)",
   "language": "python",
   "name": "python3"
  },
  "language_info": {
   "codemirror_mode": {
    "name": "ipython",
    "version": 3
   },
   "file_extension": ".py",
   "mimetype": "text/x-python",
   "name": "python",
   "nbconvert_exporter": "python",
   "pygments_lexer": "ipython3",
   "version": "3.10.4"
  }
 },
 "nbformat": 4,
 "nbformat_minor": 5
}
